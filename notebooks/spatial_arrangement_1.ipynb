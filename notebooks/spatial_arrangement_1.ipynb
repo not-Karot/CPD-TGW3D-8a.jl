{
 "cells": [
  {
   "cell_type": "markdown",
   "source": [
    "# Test `spatial_arrangment_1`"
   ],
   "metadata": {
    "id": "nnHGgMuEUZ27"
   },
   "id": "nnHGgMuEUZ27"
  },
  {
   "cell_type": "markdown",
   "source": [
    ""
   ],
   "metadata": {
    "id": "HrAQB7oeVStT"
   },
   "id": "HrAQB7oeVStT"
  },
  {
   "cell_type": "code",
   "execution_count": null,
   "id": "7dd516da",
   "metadata": {
    "id": "7dd516da",
    "outputId": "efd30c72-0bcd-4305-805d-efa0664ea73e"
   },
   "outputs": [
    {
     "name": "stderr",
     "output_type": "stream",
     "text": [
      "\u001B[32m\u001B[1m  Activating\u001B[22m\u001B[39m project at `~/.julia/environments/v1.7`\n"
     ]
    },
    {
     "data": {
      "text/plain": [
       "ViewerGL"
      ]
     },
     "execution_count": 1,
     "metadata": {},
     "output_type": "execute_result"
    }
   ],
   "source": [
    "using Pkg\n",
    "Pkg.activate()\n",
    "Pkg.instantiate()\n",
    "#Carico le librerie utili all'implementazione ed alla fase di test\n",
    "using Profile\n",
    "using ProfileView\n",
    "using BenchmarkTools #utile per il test\n",
    "using SparseArrays\n",
    "using LinearAlgebra\n",
    "using Distributed\n",
    "using LinearAlgebraicRepresentation\n",
    "using NearestNeighbors\n",
    "Lar = LinearAlgebraicRepresentation\n",
    "using ViewerGL\n",
    "GL = ViewerGL"
   ]
  },
  {
   "cell_type": "markdown",
   "source": [
    "Preparazione input"
   ],
   "metadata": {
    "id": "n_LKm7XoVU6M"
   },
   "id": "n_LKm7XoVU6M"
  },
  {
   "cell_type": "code",
   "execution_count": null,
   "id": "23b65c68",
   "metadata": {
    "id": "23b65c68"
   },
   "outputs": [],
   "source": [
    "V = [0.6540618 0.2054992 0.2972308; 0.7142365 0.1455625 0.969203; 0.5941251 0.8769965 0.3624924; 0.6542998 0.8170598 1.0344647; 1.3260341 0.2707609 0.2428771; 1.3862088 0.2108241 0.9148494; 1.2660973 0.9422582 0.3081388; 1.326272 0.8823214 0.980111; -0.3874063 0.4902226 0.4536339; 0.3249123 0.707347 0.5231232; -0.1702819 -0.0864242 0.0297177; 0.5420367 0.1307001 0.099207; -0.317917 0.0663064 1.0658723; 0.3944016 0.2834308 1.1353616; -0.1007926 -0.5103404 0.6419561; 0.611526 -0.2932161 0.7114454; 0.7899026 0.0605793 0.6679889; 0.46601 0.0749997 0.6686316; 0.804323 0.3844725 0.6679746; 0.4804304 0.3988929 0.6686173; 0.7905452 0.060565 0.9922023; 0.4666527 0.0749854 0.992845; 0.8049656 0.3844582 0.992188; 0.4810731 0.3988786 0.9928307; -0.2261907 -0.0720455 0.4715635; -0.0499888 0.0863489 0.7965885; -0.0677963 0.219164 0.24378; 0.1084056 0.3775584 0.5688049; 0.0988343 -0.2998291 0.4063673; 0.2750362 -0.1414347 0.7313923; 0.2572286 -0.0086196 0.1785838; 0.4334306 0.1497748 0.5036087];\n",
    "\n",
    "EV = SparseArrays.sparse([1, 5, 9, 1, 6, 10, 2, 5, 11, 2, 6, 12, 3, 7, 9, 3, 8, 10, 4, 7, 11, 4, 8, 12, 13, 17, 21, 13, 18, 22, 14, 17, 23, 14, 18, 24, 15, 19, 21, 15, 20, 22, 16, 19, 23, 16, 20, 24, 25, 29, 33, 25, 30, 34, 26, 29, 35, 26, 30, 36, 27, 31, 33, 27, 32, 34, 28, 31, 35, 28, 32, 36], [1, 1, 1, 2, 2, 2, 3, 3, 3, 4, 4, 4, 5, 5, 5, 6, 6, 6, 7, 7, 7, 8, 8, 8, 9, 9, 9, 10, 10, 10, 11, 11, 11, 12, 12, 12, 13, 13, 13, 14, 14, 14, 15, 15, 15, 16, 16, 16, 17, 17, 17, 18, 18, 18, 19, 19, 19, 20, 20, 20, 21, 21, 21, 22, 22, 22, 23, 23, 23, 24, 24, 24], Int8[-1, -1, -1, 1, -1, -1, -1, 1, -1, 1, 1, -1, -1, -1, 1, 1, -1, 1, -1, 1, 1, 1, 1, 1, -1, -1, -1, 1, -1, -1, -1, 1, -1, 1, 1, -1, -1, -1, 1, 1, -1, 1, -1, 1, 1, 1, 1, 1, -1, -1, -1, 1, -1, -1, -1, 1, -1, 1, 1, -1, -1, -1, 1, 1, -1, 1, -1, 1, 1, 1, 1, 1]);\n",
    "\n",
    "FE = SparseArrays.sparse([1, 3, 1, 4, 2, 3, 2, 4, 1, 5, 1, 6, 2, 5, 2, 6, 3, 5, 3, 6, 4, 5, 4, 6, 7, 9, 7, 10, 8, 9, 8, 10, 7, 11, 7, 12, 8, 11, 8, 12, 9, 11, 9, 12, 10, 11, 10, 12, 13, 15, 13, 16, 14, 15, 14, 16, 13, 17, 13, 18, 14, 17, 14, 18, 15, 17, 15, 18, 16, 17, 16, 18], [1, 1, 2, 2, 3, 3, 4, 4, 5, 5, 6, 6, 7, 7, 8, 8, 9, 9, 10, 10, 11, 11, 12, 12, 13, 13, 14, 14, 15, 15, 16, 16, 17, 17, 18, 18, 19, 19, 20, 20, 21, 21, 22, 22, 23, 23, 24, 24, 25, 25, 26, 26, 27, 27, 28, 28, 29, 29, 30, 30, 31, 31, 32, 32, 33, 33, 34, 34, 35, 35, 36, 36], Int8[1, 1, -1, 1, 1, -1, -1, -1, -1, 1, 1, 1, -1, -1, 1, -1, -1, -1, 1, -1, -1, 1, 1, 1, 1, 1, -1, 1, 1, -1, -1, -1, -1, 1, 1, 1, -1, -1, 1, -1, -1, -1, 1, -1, -1, 1, 1, 1, 1, 1, -1, 1, 1, -1, -1, -1, -1, 1, 1, 1, -1, -1, 1, -1, -1, -1, 1, -1, -1, 1, 1, 1]);\n"
   ]
  },
  {
   "cell_type": "markdown",
   "source": [
    "Testiamo il tempo d'esecuzione della funzione `spatial_arrangment`"
   ],
   "metadata": {
    "id": "i3PHZSX5VfEb"
   },
   "id": "i3PHZSX5VfEb"
  },
  {
   "cell_type": "code",
   "execution_count": null,
   "outputs": [],
   "source": [
    "@btime spatial_arrangement_1(Lar.Points(V),Lar.ChainOp(EV),Lar.ChainOp(FE),false)  # Con la funzione `@btime` si valutano le prestazioni dal punto di vista temporale di una funzione"
   ],
   "metadata": {
    "collapsed": false,
    "pycharm": {
     "name": "#%%\n"
    }
   }
  },
  {
   "cell_type": "markdown",
   "source": [
    "Test tipicizzazione"
   ],
   "metadata": {
    "collapsed": false,
    "pycharm": {
     "name": "#%% md\n"
    }
   }
  },
  {
   "cell_type": "code",
   "execution_count": null,
   "outputs": [],
   "source": [
    "@code_warntype Lar.Arrangement.spatial_arrangement_1(Lar.Points(V),Lar.ChainOp(EV),Lar.ChainOp(FE),true) #con questa macro si valuta la tipicizzazione di una funzione"
   ],
   "metadata": {
    "collapsed": false,
    "pycharm": {
     "name": "#%%\n"
    }
   }
  },
  {
   "cell_type": "code",
   "execution_count": null,
   "outputs": [],
   "source": [
    "function spatial_arrangement_1_rev(\n",
    "\t\tV::Lar.Points,\n",
    "\t\tcopEV::Lar.ChainOp,\n",
    "\t\tcopFE::Lar.ChainOp, multiproc::Bool=false)\n",
    "\n",
    "\t# spaceindex computation\n",
    "\tFV = Lar.compute_FV( copEV, copFE )\n",
    "\tmodel = (convert(Lar.Points,V'), FV)\n",
    "\tsp_idx = Lar.spaceindex(model) # OK!!  tested symmetry of computed relation\n",
    "\n",
    "\t# initializations\n",
    "\tfs_num = size(copFE, 1)\n",
    "  rV = Array{Float64,2}(undef,0,3)\n",
    "  rEV = SparseArrays.spzeros(Int8,0,0)\n",
    "  rFE = SparseArrays.spzeros(Int8,0,0)\n",
    "\n",
    "\t# multiprocessing of face fragmentation\n",
    "    if (multiproc == true)\n",
    "        in_chan = Distributed.RemoteChannel(()->Channel{Int64}(0))\n",
    "        out_chan = Distributed.RemoteChannel(()->Channel{Tuple}(0))\n",
    "        @async begin\n",
    "            for sigma in 1:fs_num\n",
    "                put!(in_chan, sigma)\n",
    "            end\n",
    "            for p in Distributed.workers()\n",
    "                put!(in_chan, -1)\n",
    "            end\n",
    "        end\n",
    "        for p in Distributed.workers()\n",
    "            @async Base.remote_do(\n",
    "                frag_face_channel, p, in_chan, out_chan, V, EV, FE, sp_idx)\n",
    "        end\n",
    "        for sigma in 1:fs_num\n",
    "            rV, rEV, rFE = Lar.skel_merge(rV, rEV, rFE, take!(out_chan)...)\n",
    "        end\n",
    "    else\n",
    "\t# sequential (iterative) processing of face fragmentation\n",
    "        @async for sigma in 1:fs_num\n",
    "            #println(\"\\n\",sigma, \"/\", fs_num)\n",
    "            nV, nEV, nFE = Lar.Arrangement.frag_face(V, copEV, copFE, sp_idx, sigma)\n",
    "\t\t      \tnV = convert(Lar.Points, nV)\n",
    "            rV,rEV, rFE= Lar.skel_merge( rV,rEV,rFE,  nV,nEV,nFE )\n",
    "            #rV=a;  #rEV=b;  #rFE=c\n",
    "        end\n",
    "    end\n",
    "\t# merging of close vertices, edges and faces (3D congruence)\n",
    "\trV, rEV, rFE = Lar.Arrangement.merge_vertices(rV, rEV, rFE)\n",
    "  return rV, rEV, rFE\n",
    "end"
   ],
   "metadata": {
    "collapsed": false,
    "pycharm": {
     "name": "#%%\n"
    }
   }
  },
  {
   "cell_type": "code",
   "execution_count": null,
   "outputs": [],
   "source": [
    "@btime spatial_arrangement_1_rev(Lar.Points(V),Lar.ChainOp(EV),Lar.ChainOp(FE),false) # Con la funzione `@btime` si valutano le prestazioni dal punto di vista temporale di una funzione"
   ],
   "metadata": {
    "collapsed": false,
    "pycharm": {
     "name": "#%%\n"
    }
   }
  },
  {
   "cell_type": "code",
   "execution_count": null,
   "outputs": [],
   "source": [
    "@code_warntype spatial_arrangement_1_rev(Lar.Points(V),Lar.ChainOp(EV),Lar.ChainOp(FE),true) #con questa macro si valuta la tipicizzazione di una funzione"
   ],
   "metadata": {
    "collapsed": false,
    "pycharm": {
     "name": "#%%\n"
    }
   }
  },
  {
   "cell_type": "markdown",
   "source": [
    "# Ottimizazzione `frag_face`"
   ],
   "metadata": {
    "collapsed": false,
    "pycharm": {
     "name": "#%% md\n"
    }
   }
  },
  {
   "cell_type": "markdown",
   "source": [
    "La funzione `sptazial_arrangment_1` utilizza al suo interno, in un ciclo `for`, la funzione `frag_face` quindi una sua eventuale ottimizzazione è auspicabile. Tale funzione effettua la trasformazione in 2D delle facce fornite in input tramite il parametro sigma ed infine ogni faccia di questo parametro sigma si interseca con le facce `insp_index`. "
   ],
   "metadata": {
    "collapsed": false,
    "pycharm": {
     "name": "#%% md\n"
    }
   }
  },
  {
   "cell_type": "code",
   "execution_count": null,
   "outputs": [],
   "source": [
    "function frag_face(V, EV, FE, sp_idx, sigma)\n",
    "\n",
    "    vs_num = size(V, 1)\n",
    "    \n",
    "\n",
    "\t# 2D transformation of sigma face\n",
    "    sigmavs = (abs.(FE[sigma:sigma,:])*abs.(EV))[1,:].nzind\n",
    "    \n",
    "    sV = V[sigmavs, :]\n",
    "    sEV = EV[FE[sigma, :].nzind, sigmavs]\n",
    "    M = Lar.Arrangement.submanifold_mapping(sV)\n",
    "    tV = ([V ones(vs_num)]*M)[:, 1:3]  # folle convertire *tutti* i vertici\n",
    "    sV = tV[sigmavs, :]\n",
    "    # sigma face intersection with faces in sp_idx[sigma]\n",
    "    for i in sp_idx[sigma]\n",
    "        tmpV, tmpEV = Lar.Arrangement.face_int(tV, EV, FE[i, :])\n",
    "       \n",
    "\n",
    "        \n",
    "        sV, sEV = Lar.skel_merge(sV, sEV, tmpV, tmpEV)\n",
    "    end\n",
    "\n",
    "    # computation of 2D arrangement of sigma face\n",
    "    sV = sV[:, 1:2]\n",
    "    nV, nEV, nFE = Lar.Arrangement.planar_arrangement(sV, sEV, sparsevec(ones(Int8, length(sigmavs))))\n",
    "    if nV == nothing ## not possible !! ... (each original face maps to its decomposition)\n",
    "        return [], spzeros(Int8, 0,0), spzeros(Int8, 0,0)\n",
    "    end\n",
    "    nvsize = size(nV, 1)\n",
    "    nV = [nV zeros(nvsize) ones(nvsize)]*inv(M)[:, 1:3] ## ????\n",
    "    \n",
    "    return nV, nEV, nFE\n",
    "end"
   ],
   "metadata": {
    "collapsed": false,
    "pycharm": {
     "name": "#%%\n"
    }
   }
  },
  {
   "cell_type": "code",
   "execution_count": null,
   "outputs": [],
   "source": [
    "V = [0.6540618 0.2054992 0.2972308; 0.7142365 0.1455625 0.969203; 0.5941251 0.8769965 0.3624924; 0.6542998 0.8170598 1.0344647; 1.3260341 0.2707609 0.2428771; 1.3862088 0.2108241 0.9148494; 1.2660973 0.9422582 0.3081388; 1.326272 0.8823214 0.980111; -0.3874063 0.4902226 0.4536339; 0.3249123 0.707347 0.5231232; -0.1702819 -0.0864242 0.0297177; 0.5420367 0.1307001 0.099207; -0.317917 0.0663064 1.0658723; 0.3944016 0.2834308 1.1353616; -0.1007926 -0.5103404 0.6419561; 0.611526 -0.2932161 0.7114454; 0.7899026 0.0605793 0.6679889; 0.46601 0.0749997 0.6686316; 0.804323 0.3844725 0.6679746; 0.4804304 0.3988929 0.6686173; 0.7905452 0.060565 0.9922023; 0.4666527 0.0749854 0.992845; 0.8049656 0.3844582 0.992188; 0.4810731 0.3988786 0.9928307; -0.2261907 -0.0720455 0.4715635; -0.0499888 0.0863489 0.7965885; -0.0677963 0.219164 0.24378; 0.1084056 0.3775584 0.5688049; 0.0988343 -0.2998291 0.4063673; 0.2750362 -0.1414347 0.7313923; 0.2572286 -0.0086196 0.1785838; 0.4334306 0.1497748 0.5036087];\n",
    "\n",
    "EV = SparseArrays.sparse([1, 5, 9, 1, 6, 10, 2, 5, 11, 2, 6, 12, 3, 7, 9, 3, 8, 10, 4, 7, 11, 4, 8, 12, 13, 17, 21, 13, 18, 22, 14, 17, 23, 14, 18, 24, 15, 19, 21, 15, 20, 22, 16, 19, 23, 16, 20, 24, 25, 29, 33, 25, 30, 34, 26, 29, 35, 26, 30, 36, 27, 31, 33, 27, 32, 34, 28, 31, 35, 28, 32, 36], [1, 1, 1, 2, 2, 2, 3, 3, 3, 4, 4, 4, 5, 5, 5, 6, 6, 6, 7, 7, 7, 8, 8, 8, 9, 9, 9, 10, 10, 10, 11, 11, 11, 12, 12, 12, 13, 13, 13, 14, 14, 14, 15, 15, 15, 16, 16, 16, 17, 17, 17, 18, 18, 18, 19, 19, 19, 20, 20, 20, 21, 21, 21, 22, 22, 22, 23, 23, 23, 24, 24, 24], Int8[-1, -1, -1, 1, -1, -1, -1, 1, -1, 1, 1, -1, -1, -1, 1, 1, -1, 1, -1, 1, 1, 1, 1, 1, -1, -1, -1, 1, -1, -1, -1, 1, -1, 1, 1, -1, -1, -1, 1, 1, -1, 1, -1, 1, 1, 1, 1, 1, -1, -1, -1, 1, -1, -1, -1, 1, -1, 1, 1, -1, -1, -1, 1, 1, -1, 1, -1, 1, 1, 1, 1, 1]);\n",
    "\n",
    "FE = SparseArrays.sparse([1, 3, 1, 4, 2, 3, 2, 4, 1, 5, 1, 6, 2, 5, 2, 6, 3, 5, 3, 6, 4, 5, 4, 6, 7, 9, 7, 10, 8, 9, 8, 10, 7, 11, 7, 12, 8, 11, 8, 12, 9, 11, 9, 12, 10, 11, 10, 12, 13, 15, 13, 16, 14, 15, 14, 16, 13, 17, 13, 18, 14, 17, 14, 18, 15, 17, 15, 18, 16, 17, 16, 18], [1, 1, 2, 2, 3, 3, 4, 4, 5, 5, 6, 6, 7, 7, 8, 8, 9, 9, 10, 10, 11, 11, 12, 12, 13, 13, 14, 14, 15, 15, 16, 16, 17, 17, 18, 18, 19, 19, 20, 20, 21, 21, 22, 22, 23, 23, 24, 24, 25, 25, 26, 26, 27, 27, 28, 28, 29, 29, 30, 30, 31, 31, 32, 32, 33, 33, 34, 34, 35, 35, 36, 36], Int8[1, 1, -1, 1, 1, -1, -1, -1, -1, 1, 1, 1, -1, -1, 1, -1, -1, -1, 1, -1, -1, 1, 1, 1, 1, 1, -1, 1, 1, -1, -1, -1, -1, 1, 1, 1, -1, -1, 1, -1, -1, -1, 1, -1, -1, 1, 1, 1, 1, 1, -1, 1, 1, -1, -1, -1, -1, 1, 1, 1, -1, -1, 1, -1, -1, -1, 1, -1, -1, 1, 1, 1]);\n"
   ],
   "metadata": {
    "collapsed": false,
    "pycharm": {
     "name": "#%%\n"
    }
   }
  },
  {
   "cell_type": "markdown",
   "source": [
    "Con la funzione `@btime` si valutano le prestazioni dal punto di vista temporale di una funzione."
   ],
   "metadata": {
    "collapsed": false,
    "pycharm": {
     "name": "#%% md\n"
    }
   }
  },
  {
   "cell_type": "code",
   "execution_count": null,
   "outputs": [],
   "source": [
    "@btime frag_face(Lar.Points(V),EV,FE,[2,3,4,5],2)"
   ],
   "metadata": {
    "collapsed": false,
    "pycharm": {
     "name": "#%%\n"
    }
   }
  },
  {
   "cell_type": "code",
   "execution_count": null,
   "outputs": [],
   "source": [
    "@code_warntype frag_face(Lar.Points(V),EV,FE,[2,3,4,5],2)"
   ],
   "metadata": {
    "collapsed": false,
    "pycharm": {
     "name": "#%%\n"
    }
   }
  },
  {
   "cell_type": "markdown",
   "source": [
    "Ottimizzazione `frag_face`"
   ],
   "metadata": {
    "collapsed": false,
    "pycharm": {
     "name": "#%% md\n"
    }
   }
  },
  {
   "cell_type": "code",
   "execution_count": null,
   "outputs": [],
   "source": [
    "function frag_face_revisited(V::Matrix{Float64}, EV::SparseMatrixCSC{Int8, Int64}, FE::SparseMatrixCSC{Int8, Int64}, \n",
    "    sp_idx::Vector{Int64}, sigma::Int64)\n",
    "\n",
    "    vs_num::Int64 = size(V, 1)\n",
    "    \n",
    "\t# 2D transformation of sigma face\n",
    "    sigmavs::Vector{Int64} = (abs.(FE[sigma:sigma,:])*abs.(EV))[1,:].nzind\n",
    "    \n",
    "    sV::Matrix{Float64} = V[sigmavs, :]\n",
    "    sEV::SparseMatrixCSC{Int8, Int64} = EV[FE[sigma, :].nzind, sigmavs]\n",
    "    M::Matrix{Float64} = Lar.Arrangement.submanifold_mapping(sV)\n",
    "   @views tV::Matrix{Float64} = ([V ones(vs_num)]*M)[:, 1:3]\n",
    "    sV = tV[sigmavs, :]\n",
    "    \n",
    "    # sigma face intersection with faces in sp_idx[sigma]\n",
    "    Threads.@threads for i in sp_idx[sigma]\n",
    "        tmpV::Matrix{Any}, tmpEV::SparseMatrixCSC{Int8, Int64} = Lar.Arrangement.face_int(tV, EV, FE[i, :])\n",
    "        sV, sEV = Lar.skel_merge(sV, sEV, tmpV, tmpEV)\n",
    "    end\n",
    "\n",
    "    # computation of 2D arrangement of sigma face\n",
    "    sV = sV[:, 1:2]\n",
    "    nV::Matrix{Float64}, nEV::SparseMatrixCSC{Int8, Int64}, nFE::SparseMatrixCSC{Int8, Int64} = Lar.Arrangement.planar_arrangement(sV, sEV, sparsevec(ones(Int8, length(sigmavs))))\n",
    "    \n",
    "    nvsize::Int64 = size(nV, 1)\n",
    "    nV = [nV zeros(nvsize) ones(nvsize)]*inv(M)[:, 1:3]\n",
    "    \n",
    "    return nV, nEV, nFE\n",
    "end"
   ],
   "metadata": {
    "collapsed": false,
    "pycharm": {
     "name": "#%%\n"
    }
   }
  },
  {
   "cell_type": "code",
   "execution_count": null,
   "outputs": [],
   "source": [
    "@btime frag_face_revisited(Lar.Points(V),EV,FE,[2,3,4,5],2)"
   ],
   "metadata": {
    "collapsed": false,
    "pycharm": {
     "name": "#%%\n"
    }
   }
  },
  {
   "cell_type": "code",
   "execution_count": null,
   "outputs": [],
   "source": [
    "Profile.clear()\n",
    "Profile.init(delay=.1e-7)\n",
    "@profile for _ in 1:200\n",
    "    frag_face_revisited(Lar.Points(V),EV,FE,[2,3,4,5],2)\n",
    "end"
   ],
   "metadata": {
    "collapsed": false,
    "pycharm": {
     "name": "#%%\n"
    }
   }
  },
  {
   "cell_type": "code",
   "execution_count": null,
   "outputs": [],
   "source": [
    "ProfileView.view()\n",
    "Profile.print()"
   ],
   "metadata": {
    "collapsed": false,
    "pycharm": {
     "name": "#%%\n"
    }
   }
  },
  {
   "cell_type": "markdown",
   "source": [
    "# Valutazione `spatial_arrangment_1`"
   ],
   "metadata": {
    "collapsed": false,
    "pycharm": {
     "name": "#%% md\n"
    }
   }
  },
  {
   "cell_type": "markdown",
   "source": [
    "La valutazione viene fatta aggiungendo al codice del precedente metodo `spatial_arrangment_1_rev` la funzione `frag_face_revisited`"
   ],
   "metadata": {
    "collapsed": false,
    "pycharm": {
     "name": "#%% md\n"
    }
   }
  },
  {
   "cell_type": "code",
   "execution_count": null,
   "outputs": [],
   "source": [
    "function spatial_arrangement_1_rev(\n",
    "\t\tV::Lar.Points,\n",
    "\t\tcopEV::Lar.ChainOp,\n",
    "\t\tcopFE::Lar.ChainOp, multiproc::Bool=false)\n",
    "\n",
    "\t# spaceindex computation\n",
    "\tFV = Lar.compute_FV( copEV, copFE )\n",
    "\tmodel = (convert(Lar.Points,V'), FV)\n",
    "\tsp_idx = Lar.spaceindex(model) # OK!!  tested symmetry of computed relation\n",
    "\n",
    "\t# initializations\n",
    "\tfs_num = size(copFE, 1)\n",
    "  rV = Array{Float64,2}(undef,0,3)\n",
    "  rEV = SparseArrays.spzeros(Int8,0,0)\n",
    "  rFE = SparseArrays.spzeros(Int8,0,0)\n",
    "\n",
    "\t# multiprocessing of face fragmentation\n",
    "    if (multiproc == true)\n",
    "        in_chan = Distributed.RemoteChannel(()->Channel{Int64}(0))\n",
    "        out_chan = Distributed.RemoteChannel(()->Channel{Tuple}(0))\n",
    "        @async begin\n",
    "            for sigma in 1:fs_num\n",
    "                put!(in_chan, sigma)\n",
    "            end\n",
    "            for p in Distributed.workers()\n",
    "                put!(in_chan, -1)\n",
    "            end\n",
    "        end\n",
    "        for p in Distributed.workers()\n",
    "            @async Base.remote_do(\n",
    "                frag_face_channel, p, in_chan, out_chan, V, EV, FE, sp_idx)\n",
    "        end\n",
    "        for sigma in 1:fs_num\n",
    "            rV, rEV, rFE = Lar.skel_merge(rV, rEV, rFE, take!(out_chan)...)\n",
    "        end\n",
    "    else\n",
    "\t# sequential (iterative) processing of face fragmentation\n",
    "        @async for sigma in 1:fs_num\n",
    "            #println(\"\\n\",sigma, \"/\", fs_num)\n",
    "            nV, nEV, nFE = Lar.Arrangement.frag_face_revisited(V, copEV, copFE, sp_idx, sigma)\n",
    "\t\t      \tnV = convert(Lar.Points, nV)\n",
    "            rV,rEV, rFE= Lar.skel_merge( rV,rEV,rFE,  nV,nEV,nFE )\n",
    "            #rV=a;  #rEV=b;  #rFE=c\n",
    "        end\n",
    "    end\n",
    "\t# merging of close vertices, edges and faces (3D congruence)\n",
    "\trV, rEV, rFE = Lar.Arrangement.merge_vertices(rV, rEV, rFE)\n",
    "  return rV, rEV, rFE\n",
    "end"
   ],
   "metadata": {
    "collapsed": false,
    "pycharm": {
     "name": "#%%\n"
    }
   }
  },
  {
   "cell_type": "code",
   "execution_count": null,
   "outputs": [],
   "source": [
    "@btime spatial_arrangement_1_rev(Lar.Points(V),Lar.ChainOp(EV),Lar.ChainOp(FE),false) # Con la funzione `@btime` si valutano le prestazioni dal punto di vista temporale di una funzione"
   ],
   "metadata": {
    "collapsed": false,
    "pycharm": {
     "name": "#%%\n"
    }
   }
  },
  {
   "cell_type": "markdown",
   "source": [
    "# Analisi e ottimizzazione `merge_vertices`"
   ],
   "metadata": {
    "collapsed": false,
    "pycharm": {
     "name": "#%% md\n"
    }
   }
  },
  {
   "cell_type": "code",
   "execution_count": null,
   "outputs": [],
   "source": [
    "function merge_vertices(V::Lar.Points, EV::Lar.ChainOp, FE::Lar.ChainOp, err=1e-4)\n",
    "    vertsnum = size(V, 1)\n",
    "    edgenum = size(EV, 1)\n",
    "    facenum = size(FE, 1)\n",
    "    newverts = zeros(Int, vertsnum)\n",
    "    # KDTree constructor needs an explicit array of Float64\n",
    "    V = Array{Float64,2}(V)\n",
    "    W = convert(Lar.Points, LinearAlgebra.transpose(V))\n",
    "    kdtree = KDTree(W)\n",
    "    # remove vertices congruent to a single representative\n",
    "    todelete = []\n",
    "    i = 1\n",
    "    for vi in 1:vertsnum\n",
    "        if !(vi in todelete)\n",
    "            nearvs = Lar.inrange(kdtree, V[vi, :], err)\n",
    "            newverts[nearvs] .= i\n",
    "            nearvs = setdiff(nearvs, vi)\n",
    "            todelete = union(todelete, nearvs)\n",
    "            i = i + 1\n",
    "        end\n",
    "    end\n",
    "    nV = V[setdiff(collect(1:vertsnum), todelete), :]\n",
    "    \n",
    "    # translate edges to take congruence into account\n",
    "    edges = Array{Tuple{Int, Int}, 1}(undef, edgenum)\n",
    "    oedges = Array{Tuple{Int, Int}, 1}(undef, edgenum)\n",
    "    for ei in 1:edgenum\n",
    "        v1, v2 = EV[ei, :].nzind\n",
    "        edges[ei] = Tuple{Int, Int}(sort([newverts[v1], newverts[v2]]))\n",
    "        oedges[ei] = Tuple{Int, Int}(sort([v1, v2]))\n",
    "    end\n",
    "    nedges = union(edges)\n",
    "    # remove edges of zero length\n",
    "    nedges = filter(t->t[1]!=t[2], nedges)\n",
    "    nedgenum = length(nedges)\n",
    "    nEV = spzeros(Int8, nedgenum, size(nV, 1))\n",
    " \n",
    "    etuple2idx = Dict{Tuple{Int, Int}, Int}()\n",
    "    for ei in 1:nedgenum\n",
    "        begin\n",
    "            nEV[ei, collect(nedges[ei])] .= 1\n",
    "            nEV\n",
    "        end\n",
    "        etuple2idx[nedges[ei]] = ei\n",
    "    end\n",
    "    for e in 1:nedgenum\n",
    "        v1,v2 = findnz(nEV[e,:])[1]\n",
    "        nEV[e,v1] = -1; nEV[e,v2] = 1\n",
    "    end\n",
    " \n",
    "    # compute new faces to take congruence into account\n",
    "    faces = [[\n",
    "        map(x->newverts[x], FE[fi, ei] > 0 ? oedges[ei] : reverse(oedges[ei]))\n",
    "        for ei in FE[fi, :].nzind\n",
    "    ] for fi in 1:facenum]\n",
    " \n",
    " \n",
    "    visited = []\n",
    "    function filter_fn(face)\n",
    " \n",
    "        verts = []\n",
    "        map(e->verts = union(verts, collect(e)), face)\n",
    "        verts = Set(verts)\n",
    " \n",
    "        if !(verts in visited)\n",
    "            push!(visited, verts)\n",
    "            return true\n",
    "        end\n",
    "        return false\n",
    "    end\n",
    " \n",
    "    nfaces = filter(filter_fn, faces)\n",
    " \n",
    "    nfacenum = length(nfaces)\n",
    "    nFE = spzeros(Int8, nfacenum, size(nEV, 1))\n",
    " \n",
    "    for fi in 1:nfacenum\n",
    "        for edge in nfaces[fi]\n",
    "            ei = etuple2idx[Tuple{Int, Int}(sort(collect(edge)))]\n",
    "            nFE[fi, ei] = sign(edge[2] - edge[1])\n",
    "        end\n",
    "    end\n",
    " \n",
    "    return Lar.Points(nV), nEV, nFE\n",
    " end"
   ],
   "metadata": {
    "collapsed": false,
    "pycharm": {
     "name": "#%%\n"
    }
   }
  },
  {
   "cell_type": "code",
   "execution_count": null,
   "outputs": [],
   "source": [
    "@btime merge_vertices($Lar.Points(V),$Lar.ChainOp(EV),$Lar.ChainOp(FE),$1e-8)"
   ],
   "metadata": {
    "collapsed": false,
    "pycharm": {
     "name": "#%%\n"
    }
   }
  },
  {
   "cell_type": "markdown",
   "source": [
    "Ottimizazzione: si è scelto di usare la macro Julia `@async`. Tale macro avvolge un espressione in un `Task`e lo aggiunge alla coda dello scheduler della macchina locale."
   ],
   "metadata": {
    "collapsed": false,
    "pycharm": {
     "name": "#%% md\n"
    }
   }
  },
  {
   "cell_type": "code",
   "execution_count": null,
   "outputs": [],
   "source": [
    "function merge_vertices_revisited(V::Lar.Points, EV::Lar.ChainOp, FE::Lar.ChainOp, err=1e-4)\n",
    "    vertsnum = size(V, 1)\n",
    "    edgenum = size(EV, 1)\n",
    "    facenum = size(FE, 1)\n",
    "    newverts = zeros(Int, vertsnum)\n",
    "\n",
    "    # KDTree constructor needs an explicit array of Float64\n",
    "    V = Array{Float64,2}(V)\n",
    "    W = convert(Lar.Points, LinearAlgebra.transpose(V))\n",
    "    kdtree = KDTree(W)\n",
    "\n",
    "    # remove vertices congruent to a single representative\n",
    "    todelete = []\n",
    "    i = 1\n",
    "\n",
    "    for vi in 1:vertsnum #non è possibile utilizzare @async\n",
    "        if !(vi in todelete)\n",
    "            nearvs =  Lar.inrange(kdtree, V[vi, :], err)\n",
    "            newverts[nearvs] .= i\n",
    "            nearvs =  setdiff(nearvs, vi)\n",
    "            todelete = union(todelete, nearvs)\n",
    "            i = i + 1\n",
    "        end\n",
    "    end\n",
    "    nV = V[setdiff(collect(1:vertsnum), todelete), :]\n",
    "    \n",
    "    # translate edges to take congruence into account\n",
    "    edges = Array{Tuple{Int, Int}, 1}(undef, edgenum)\n",
    "    oedges = Array{Tuple{Int, Int}, 1}(undef, edgenum)\n",
    "\n",
    "    for ei in 1:edgenum #non è possibile utilizzare @async\n",
    "        v1, v2 = EV[ei, :].nzind\n",
    "        edges[ei] = Tuple{Int, Int}(sort([newverts[v1], newverts[v2]]))\n",
    "        oedges[ei] = Tuple{Int, Int}(sort([v1, v2]))\n",
    "    end\n",
    "\n",
    "    nedges = union(edges)\n",
    "    # remove edges of zero length\n",
    "    nedges = filter(t->t[1]!=t[2], nedges)\n",
    "    nedgenum = length(nedges)\n",
    "    nEV = spzeros(Int8, nedgenum, size(nV, 1))\n",
    " \n",
    "    etuple2idx = Dict{Tuple{Int, Int}, Int}()\n",
    "\n",
    "    for ei in 1:nedgenum #non è possibile utilizzare @async\n",
    "        begin\n",
    "            nEV[ei, collect(nedges[ei])] .= 1\n",
    "            nEV\n",
    "        end\n",
    "        etuple2idx[nedges[ei]] = ei\n",
    "    end\n",
    "    \n",
    "    @async for e in 1:nedgenum \n",
    "        v1,v2 = findnz(nEV[e,:])[1]\n",
    "        nEV[e,v1] = -1; nEV[e,v2] = 1\n",
    "    end\n",
    " \n",
    "    # compute new faces to take congruence into account\n",
    "    faces = [[\n",
    "        map(x->newverts[x], FE[fi, ei] > 0 ? oedges[ei] : reverse(oedges[ei]))\n",
    "        for ei in FE[fi, :].nzind\n",
    "    ] for fi in 1:facenum]\n",
    " \n",
    " \n",
    "    visited = []\n",
    "    function filter_fn(face)\n",
    " \n",
    "        verts = []\n",
    "        map(e->verts = union(verts, collect(e)), face)\n",
    "        verts = Set(verts)\n",
    " \n",
    "        if !(verts in visited)\n",
    "            push!(visited, verts)\n",
    "            return true\n",
    "        end\n",
    "        return false\n",
    "    end\n",
    " \n",
    "    nfaces = filter(filter_fn, faces)\n",
    " \n",
    "    nfacenum = length(nfaces)\n",
    "    nFE = spzeros(Int8, nfacenum, size(nEV, 1))\n",
    " \n",
    "    @async for fi in 1:nfacenum\n",
    "        @async for edge in nfaces[fi]\n",
    "            ei = etuple2idx[Tuple{Int, Int}(sort(collect(edge)))]\n",
    "            nFE[fi, ei] = sign(edge[2] - edge[1])\n",
    "        end\n",
    "    end\n",
    " \n",
    "    return Lar.Points(nV), nEV, nFE\n",
    " end"
   ],
   "metadata": {
    "collapsed": false,
    "pycharm": {
     "name": "#%%\n"
    }
   }
  },
  {
   "cell_type": "code",
   "execution_count": null,
   "outputs": [],
   "source": [
    "@btime merge_vertices_revisited(Lar.Points(V),Lar.ChainOp(EV),Lar.ChainOp(FE),1e-8)"
   ],
   "metadata": {
    "collapsed": false,
    "pycharm": {
     "name": "#%%\n"
    }
   }
  },
  {
   "cell_type": "markdown",
   "source": [
    "Valutazione spatial_arrangment_1 con merge_vertices ottimizzato "
   ],
   "metadata": {
    "collapsed": false,
    "pycharm": {
     "name": "#%% md\n"
    }
   }
  },
  {
   "cell_type": "code",
   "execution_count": null,
   "outputs": [],
   "source": [
    "function spatial_arrangement_1_rev(\n",
    "\t\tV::Lar.Points,\n",
    "\t\tcopEV::Lar.ChainOp,\n",
    "\t\tcopFE::Lar.ChainOp, multiproc::Bool=false)\n",
    "\n",
    "\t# spaceindex computation\n",
    "\tFV = Lar.compute_FV( copEV, copFE )\n",
    "\tmodel = (convert(Lar.Points,V'), FV)\n",
    "\tsp_idx = Lar.spaceindex(model) # OK!!  tested symmetry of computed relation\n",
    "\n",
    "\t# initializations\n",
    "\tfs_num = size(copFE, 1)\n",
    "  rV = Array{Float64,2}(undef,0,3)\n",
    "  rEV = SparseArrays.spzeros(Int8,0,0)\n",
    "  rFE = SparseArrays.spzeros(Int8,0,0)\n",
    "\n",
    "\t# multiprocessing of face fragmentation\n",
    "    if (multiproc == true)\n",
    "        in_chan = Distributed.RemoteChannel(()->Channel{Int64}(0))\n",
    "        out_chan = Distributed.RemoteChannel(()->Channel{Tuple}(0))\n",
    "        @async begin\n",
    "            for sigma in 1:fs_num\n",
    "                put!(in_chan, sigma)\n",
    "            end\n",
    "            for p in Distributed.workers()\n",
    "                put!(in_chan, -1)\n",
    "            end\n",
    "        end\n",
    "        for p in Distributed.workers()\n",
    "            @async Base.remote_do(\n",
    "                frag_face_channel, p, in_chan, out_chan, V, EV, FE, sp_idx)\n",
    "        end\n",
    "        for sigma in 1:fs_num\n",
    "            rV, rEV, rFE = Lar.skel_merge(rV, rEV, rFE, take!(out_chan)...)\n",
    "        end\n",
    "    else\n",
    "\t# sequential (iterative) processing of face fragmentation\n",
    "        @async for sigma in 1:fs_num\n",
    "            #println(\"\\n\",sigma, \"/\", fs_num)\n",
    "            nV, nEV, nFE = Lar.Arrangement.frag_face_revisited(V, copEV, copFE, sp_idx, sigma)\n",
    "\t\t      \tnV = convert(Lar.Points, nV)\n",
    "            rV,rEV, rFE= Lar.skel_merge( rV,rEV,rFE,  nV,nEV,nFE )\n",
    "            #rV=a;  #rEV=b;  #rFE=c\n",
    "        end\n",
    "    end\n",
    "\t# merging of close vertices, edges and faces (3D congruence)\n",
    "\trV, rEV, rFE = Lar.Arrangement.merge_vertices_revisited(rV, rEV, rFE)\n",
    "  return rV, rEV, rFE\n",
    "end"
   ],
   "metadata": {
    "collapsed": false,
    "pycharm": {
     "name": "#%%\n"
    }
   }
  },
  {
   "cell_type": "code",
   "execution_count": null,
   "outputs": [],
   "source": [
    "@btime spatial_arrangement_1_rev(Lar.Points(V),Lar.ChainOp(EV),Lar.ChainOp(FE),false) # Con la funzione `@btime` si valutano le prestazioni dal punto di vista temporale di una funzione"
   ],
   "metadata": {
    "collapsed": false,
    "pycharm": {
     "name": "#%%\n"
    }
   }
  },
  {
   "cell_type": "markdown",
   "source": [
    "# Ottimizazzione `frag_face`"
   ],
   "metadata": {
    "id": "N30MRJjRGKNb"
   },
   "id": "N30MRJjRGKNb"
  },
  {
   "cell_type": "markdown",
   "source": [
    "La funzione `sptazial_arrangment_1` utilizza al suo interno, in un ciclo `for`, la funzione `frag_face` quindi una sua eventuale ottimizzazione è auspicabile. Tale funzione effettua la trasformazione in 2D delle facce fornite in input tramite il parametro sigma ed infine ogni faccia di questo parametro sigma si interseca con le facce `insp_index`. "
   ],
   "metadata": {
    "id": "sl1LUqjOGVUx"
   },
   "id": "sl1LUqjOGVUx"
  },
  {
   "cell_type": "code",
   "source": [
    "function frag_face(V, EV, FE, sp_idx, sigma)\n",
    "\n",
    "    vs_num = size(V, 1)\n",
    "    \n",
    "\n",
    "\t# 2D transformation of sigma face\n",
    "    sigmavs = (abs.(FE[sigma:sigma,:])*abs.(EV))[1,:].nzind\n",
    "    \n",
    "    sV = V[sigmavs, :]\n",
    "    sEV = EV[FE[sigma, :].nzind, sigmavs]\n",
    "    M = Lar.Arrangement.submanifold_mapping(sV)\n",
    "    tV = ([V ones(vs_num)]*M)[:, 1:3]  # folle convertire *tutti* i vertici\n",
    "    sV = tV[sigmavs, :]\n",
    "    # sigma face intersection with faces in sp_idx[sigma]\n",
    "    for i in sp_idx[sigma]\n",
    "        tmpV, tmpEV = Lar.Arrangement.face_int(tV, EV, FE[i, :])\n",
    "       \n",
    "\n",
    "        \n",
    "        sV, sEV = Lar.skel_merge(sV, sEV, tmpV, tmpEV)\n",
    "    end\n",
    "\n",
    "    # computation of 2D arrangement of sigma face\n",
    "    sV = sV[:, 1:2]\n",
    "    nV, nEV, nFE = Lar.Arrangement.planar_arrangement(sV, sEV, sparsevec(ones(Int8, length(sigmavs))))\n",
    "    if nV == nothing ## not possible !! ... (each original face maps to its decomposition)\n",
    "        return [], spzeros(Int8, 0,0), spzeros(Int8, 0,0)\n",
    "    end\n",
    "    nvsize = size(nV, 1)\n",
    "    nV = [nV zeros(nvsize) ones(nvsize)]*inv(M)[:, 1:3] ## ????\n",
    "    \n",
    "    return nV, nEV, nFE\n",
    "end"
   ],
   "metadata": {
    "id": "jYAEM9SAH-JG"
   },
   "id": "jYAEM9SAH-JG",
   "execution_count": null,
   "outputs": []
  },
  {
   "cell_type": "code",
   "source": [
    "V = [0.6540618 0.2054992 0.2972308; 0.7142365 0.1455625 0.969203; 0.5941251 0.8769965 0.3624924; 0.6542998 0.8170598 1.0344647; 1.3260341 0.2707609 0.2428771; 1.3862088 0.2108241 0.9148494; 1.2660973 0.9422582 0.3081388; 1.326272 0.8823214 0.980111; -0.3874063 0.4902226 0.4536339; 0.3249123 0.707347 0.5231232; -0.1702819 -0.0864242 0.0297177; 0.5420367 0.1307001 0.099207; -0.317917 0.0663064 1.0658723; 0.3944016 0.2834308 1.1353616; -0.1007926 -0.5103404 0.6419561; 0.611526 -0.2932161 0.7114454; 0.7899026 0.0605793 0.6679889; 0.46601 0.0749997 0.6686316; 0.804323 0.3844725 0.6679746; 0.4804304 0.3988929 0.6686173; 0.7905452 0.060565 0.9922023; 0.4666527 0.0749854 0.992845; 0.8049656 0.3844582 0.992188; 0.4810731 0.3988786 0.9928307; -0.2261907 -0.0720455 0.4715635; -0.0499888 0.0863489 0.7965885; -0.0677963 0.219164 0.24378; 0.1084056 0.3775584 0.5688049; 0.0988343 -0.2998291 0.4063673; 0.2750362 -0.1414347 0.7313923; 0.2572286 -0.0086196 0.1785838; 0.4334306 0.1497748 0.5036087];\n",
    "\n",
    "EV = SparseArrays.sparse([1, 5, 9, 1, 6, 10, 2, 5, 11, 2, 6, 12, 3, 7, 9, 3, 8, 10, 4, 7, 11, 4, 8, 12, 13, 17, 21, 13, 18, 22, 14, 17, 23, 14, 18, 24, 15, 19, 21, 15, 20, 22, 16, 19, 23, 16, 20, 24, 25, 29, 33, 25, 30, 34, 26, 29, 35, 26, 30, 36, 27, 31, 33, 27, 32, 34, 28, 31, 35, 28, 32, 36], [1, 1, 1, 2, 2, 2, 3, 3, 3, 4, 4, 4, 5, 5, 5, 6, 6, 6, 7, 7, 7, 8, 8, 8, 9, 9, 9, 10, 10, 10, 11, 11, 11, 12, 12, 12, 13, 13, 13, 14, 14, 14, 15, 15, 15, 16, 16, 16, 17, 17, 17, 18, 18, 18, 19, 19, 19, 20, 20, 20, 21, 21, 21, 22, 22, 22, 23, 23, 23, 24, 24, 24], Int8[-1, -1, -1, 1, -1, -1, -1, 1, -1, 1, 1, -1, -1, -1, 1, 1, -1, 1, -1, 1, 1, 1, 1, 1, -1, -1, -1, 1, -1, -1, -1, 1, -1, 1, 1, -1, -1, -1, 1, 1, -1, 1, -1, 1, 1, 1, 1, 1, -1, -1, -1, 1, -1, -1, -1, 1, -1, 1, 1, -1, -1, -1, 1, 1, -1, 1, -1, 1, 1, 1, 1, 1]);\n",
    "\n",
    "FE = SparseArrays.sparse([1, 3, 1, 4, 2, 3, 2, 4, 1, 5, 1, 6, 2, 5, 2, 6, 3, 5, 3, 6, 4, 5, 4, 6, 7, 9, 7, 10, 8, 9, 8, 10, 7, 11, 7, 12, 8, 11, 8, 12, 9, 11, 9, 12, 10, 11, 10, 12, 13, 15, 13, 16, 14, 15, 14, 16, 13, 17, 13, 18, 14, 17, 14, 18, 15, 17, 15, 18, 16, 17, 16, 18], [1, 1, 2, 2, 3, 3, 4, 4, 5, 5, 6, 6, 7, 7, 8, 8, 9, 9, 10, 10, 11, 11, 12, 12, 13, 13, 14, 14, 15, 15, 16, 16, 17, 17, 18, 18, 19, 19, 20, 20, 21, 21, 22, 22, 23, 23, 24, 24, 25, 25, 26, 26, 27, 27, 28, 28, 29, 29, 30, 30, 31, 31, 32, 32, 33, 33, 34, 34, 35, 35, 36, 36], Int8[1, 1, -1, 1, 1, -1, -1, -1, -1, 1, 1, 1, -1, -1, 1, -1, -1, -1, 1, -1, -1, 1, 1, 1, 1, 1, -1, 1, 1, -1, -1, -1, -1, 1, 1, 1, -1, -1, 1, -1, -1, -1, 1, -1, -1, 1, 1, 1, 1, 1, -1, 1, 1, -1, -1, -1, -1, 1, 1, 1, -1, -1, 1, -1, -1, -1, 1, -1, -1, 1, 1, 1]);\n"
   ],
   "metadata": {
    "id": "NtQC0F41IHUj"
   },
   "id": "NtQC0F41IHUj",
   "execution_count": null,
   "outputs": []
  },
  {
   "cell_type": "markdown",
   "source": [
    "Con la funzione `@btime` si valutano le prestazioni dal punto di vista temporale di una funzione."
   ],
   "metadata": {
    "id": "taJ628iSIYcD"
   },
   "id": "taJ628iSIYcD"
  },
  {
   "cell_type": "code",
   "source": [
    "@btime frag_face(Lar.Points(V),EV,FE,[2,3,4,5],2)"
   ],
   "metadata": {
    "id": "1NvocWavIRx_"
   },
   "id": "1NvocWavIRx_",
   "execution_count": null,
   "outputs": []
  },
  {
   "cell_type": "code",
   "source": [
    "@code_warntype frag_face(Lar.Points(V),EV,FE,[2,3,4,5],2)"
   ],
   "metadata": {
    "id": "HqAkb-9XIVRf"
   },
   "id": "HqAkb-9XIVRf",
   "execution_count": null,
   "outputs": []
  },
  {
   "cell_type": "markdown",
   "source": [
    "Ottimizzazione `frag_face`"
   ],
   "metadata": {
    "id": "ZjS7vSWjJDsk"
   },
   "id": "ZjS7vSWjJDsk"
  },
  {
   "cell_type": "code",
   "source": [
    "function frag_face_revisited(V::Matrix{Float64}, EV::SparseMatrixCSC{Int8, Int64}, FE::SparseMatrixCSC{Int8, Int64}, \n",
    "    sp_idx::Vector{Int64}, sigma::Int64)\n",
    "\n",
    "    vs_num::Int64 = size(V, 1)\n",
    "    \n",
    "\t# 2D transformation of sigma face\n",
    "    sigmavs::Vector{Int64} = (abs.(FE[sigma:sigma,:])*abs.(EV))[1,:].nzind\n",
    "    \n",
    "    sV::Matrix{Float64} = V[sigmavs, :]\n",
    "    sEV::SparseMatrixCSC{Int8, Int64} = EV[FE[sigma, :].nzind, sigmavs]\n",
    "    M::Matrix{Float64} = Lar.Arrangement.submanifold_mapping(sV)\n",
    "   @views tV::Matrix{Float64} = ([V ones(vs_num)]*M)[:, 1:3]\n",
    "    sV = tV[sigmavs, :]\n",
    "    \n",
    "    # sigma face intersection with faces in sp_idx[sigma]\n",
    "    Threads.@threads for i in sp_idx[sigma]\n",
    "        tmpV::Matrix{Any}, tmpEV::SparseMatrixCSC{Int8, Int64} = Lar.Arrangement.face_int(tV, EV, FE[i, :])\n",
    "        sV, sEV = Lar.skel_merge(sV, sEV, tmpV, tmpEV)\n",
    "    end\n",
    "\n",
    "    # computation of 2D arrangement of sigma face\n",
    "    sV = sV[:, 1:2]\n",
    "    nV::Matrix{Float64}, nEV::SparseMatrixCSC{Int8, Int64}, nFE::SparseMatrixCSC{Int8, Int64} = Lar.Arrangement.planar_arrangement(sV, sEV, sparsevec(ones(Int8, length(sigmavs))))\n",
    "    \n",
    "    nvsize::Int64 = size(nV, 1)\n",
    "    nV = [nV zeros(nvsize) ones(nvsize)]*inv(M)[:, 1:3]\n",
    "    \n",
    "    return nV, nEV, nFE\n",
    "end"
   ],
   "metadata": {
    "id": "td3_v-CnJNLW"
   },
   "id": "td3_v-CnJNLW",
   "execution_count": null,
   "outputs": []
  },
  {
   "cell_type": "code",
   "source": [
    "@btime frag_face_revisited(Lar.Points(V),EV,FE,[2,3,4,5],2)"
   ],
   "metadata": {
    "id": "Y69jL2qaJ_NU"
   },
   "id": "Y69jL2qaJ_NU",
   "execution_count": null,
   "outputs": []
  },
  {
   "cell_type": "code",
   "source": [
    "Profile.clear()\n",
    "Profile.init(delay=.1e-7)\n",
    "@profile for _ in 1:200\n",
    "    frag_face_revisited(Lar.Points(V),EV,FE,[2,3,4,5],2)\n",
    "end"
   ],
   "metadata": {
    "id": "5pXn3QD1KF-6"
   },
   "id": "5pXn3QD1KF-6",
   "execution_count": null,
   "outputs": []
  },
  {
   "cell_type": "code",
   "source": [
    "ProfileView.view()\n",
    "Profile.print()"
   ],
   "metadata": {
    "id": "taywuFftKG29"
   },
   "id": "taywuFftKG29",
   "execution_count": null,
   "outputs": []
  },
  {
   "cell_type": "markdown",
   "source": [
    "# Valutazione `spatial_arrangment_1`"
   ],
   "metadata": {
    "id": "r9cYBo_MLRiK"
   },
   "id": "r9cYBo_MLRiK"
  },
  {
   "cell_type": "markdown",
   "source": [
    "La valutazione viene fatta aggiungendo al codice del precedente metodo `spatial_arrangment_1_rev` la funzione `frag_face_revisited`"
   ],
   "metadata": {
    "id": "0naOSH2jOWqw"
   },
   "id": "0naOSH2jOWqw"
  },
  {
   "cell_type": "code",
   "source": [
    "function spatial_arrangement_1_rev(\n",
    "\t\tV::Lar.Points,\n",
    "\t\tcopEV::Lar.ChainOp,\n",
    "\t\tcopFE::Lar.ChainOp, multiproc::Bool=false)\n",
    "\n",
    "\t# spaceindex computation\n",
    "\tFV = Lar.compute_FV( copEV, copFE )\n",
    "\tmodel = (convert(Lar.Points,V'), FV)\n",
    "\tsp_idx = Lar.spaceindex(model) # OK!!  tested symmetry of computed relation\n",
    "\n",
    "\t# initializations\n",
    "\tfs_num = size(copFE, 1)\n",
    "  rV = Array{Float64,2}(undef,0,3)\n",
    "  rEV = SparseArrays.spzeros(Int8,0,0)\n",
    "  rFE = SparseArrays.spzeros(Int8,0,0)\n",
    "\n",
    "\t# multiprocessing of face fragmentation\n",
    "    if (multiproc == true)\n",
    "        in_chan = Distributed.RemoteChannel(()->Channel{Int64}(0))\n",
    "        out_chan = Distributed.RemoteChannel(()->Channel{Tuple}(0))\n",
    "        @async begin\n",
    "            for sigma in 1:fs_num\n",
    "                put!(in_chan, sigma)\n",
    "            end\n",
    "            for p in Distributed.workers()\n",
    "                put!(in_chan, -1)\n",
    "            end\n",
    "        end\n",
    "        for p in Distributed.workers()\n",
    "            @async Base.remote_do(\n",
    "                frag_face_channel, p, in_chan, out_chan, V, EV, FE, sp_idx)\n",
    "        end\n",
    "        for sigma in 1:fs_num\n",
    "            rV, rEV, rFE = Lar.skel_merge(rV, rEV, rFE, take!(out_chan)...)\n",
    "        end\n",
    "    else\n",
    "\t# sequential (iterative) processing of face fragmentation\n",
    "        @async for sigma in 1:fs_num\n",
    "            #println(\"\\n\",sigma, \"/\", fs_num)\n",
    "            nV, nEV, nFE = Lar.Arrangement.frag_face_revisited(V, copEV, copFE, sp_idx, sigma)\n",
    "\t\t      \tnV = convert(Lar.Points, nV)\n",
    "            rV,rEV, rFE= Lar.skel_merge( rV,rEV,rFE,  nV,nEV,nFE )\n",
    "            #rV=a;  #rEV=b;  #rFE=c\n",
    "        end\n",
    "    end\n",
    "\t# merging of close vertices, edges and faces (3D congruence)\n",
    "\trV, rEV, rFE = Lar.Arrangement.merge_vertices(rV, rEV, rFE)\n",
    "  return rV, rEV, rFE\n",
    "end"
   ],
   "metadata": {
    "id": "kUCvgAHMLa_1"
   },
   "id": "kUCvgAHMLa_1",
   "execution_count": null,
   "outputs": []
  },
  {
   "cell_type": "code",
   "source": [
    "@btime spatial_arrangement_1_rev(Lar.Points(V),Lar.ChainOp(EV),Lar.ChainOp(FE),false) # Con la funzione `@btime` si valutano le prestazioni dal punto di vista temporale di una funzione"
   ],
   "metadata": {
    "id": "tqLyNeM7RHUB"
   },
   "id": "tqLyNeM7RHUB",
   "execution_count": null,
   "outputs": []
  },
  {
   "cell_type": "markdown",
   "source": [
    "# Analisi e ottimizzazione `merge_vertices`"
   ],
   "metadata": {
    "id": "EuJ30OmmPA6I"
   },
   "id": "EuJ30OmmPA6I"
  },
  {
   "cell_type": "code",
   "source": [
    "function merge_vertices(V::Lar.Points, EV::Lar.ChainOp, FE::Lar.ChainOp, err=1e-4)\n",
    "    vertsnum = size(V, 1)\n",
    "    edgenum = size(EV, 1)\n",
    "    facenum = size(FE, 1)\n",
    "    newverts = zeros(Int, vertsnum)\n",
    "    # KDTree constructor needs an explicit array of Float64\n",
    "    V = Array{Float64,2}(V)\n",
    "    W = convert(Lar.Points, LinearAlgebra.transpose(V))\n",
    "    kdtree = KDTree(W)\n",
    "    # remove vertices congruent to a single representative\n",
    "    todelete = []\n",
    "    i = 1\n",
    "    for vi in 1:vertsnum\n",
    "        if !(vi in todelete)\n",
    "            nearvs = Lar.inrange(kdtree, V[vi, :], err)\n",
    "            newverts[nearvs] .= i\n",
    "            nearvs = setdiff(nearvs, vi)\n",
    "            todelete = union(todelete, nearvs)\n",
    "            i = i + 1\n",
    "        end\n",
    "    end\n",
    "    nV = V[setdiff(collect(1:vertsnum), todelete), :]\n",
    "    \n",
    "    # translate edges to take congruence into account\n",
    "    edges = Array{Tuple{Int, Int}, 1}(undef, edgenum)\n",
    "    oedges = Array{Tuple{Int, Int}, 1}(undef, edgenum)\n",
    "    for ei in 1:edgenum\n",
    "        v1, v2 = EV[ei, :].nzind\n",
    "        edges[ei] = Tuple{Int, Int}(sort([newverts[v1], newverts[v2]]))\n",
    "        oedges[ei] = Tuple{Int, Int}(sort([v1, v2]))\n",
    "    end\n",
    "    nedges = union(edges)\n",
    "    # remove edges of zero length\n",
    "    nedges = filter(t->t[1]!=t[2], nedges)\n",
    "    nedgenum = length(nedges)\n",
    "    nEV = spzeros(Int8, nedgenum, size(nV, 1))\n",
    " \n",
    "    etuple2idx = Dict{Tuple{Int, Int}, Int}()\n",
    "    for ei in 1:nedgenum\n",
    "        begin\n",
    "            nEV[ei, collect(nedges[ei])] .= 1\n",
    "            nEV\n",
    "        end\n",
    "        etuple2idx[nedges[ei]] = ei\n",
    "    end\n",
    "    for e in 1:nedgenum\n",
    "        v1,v2 = findnz(nEV[e,:])[1]\n",
    "        nEV[e,v1] = -1; nEV[e,v2] = 1\n",
    "    end\n",
    " \n",
    "    # compute new faces to take congruence into account\n",
    "    faces = [[\n",
    "        map(x->newverts[x], FE[fi, ei] > 0 ? oedges[ei] : reverse(oedges[ei]))\n",
    "        for ei in FE[fi, :].nzind\n",
    "    ] for fi in 1:facenum]\n",
    " \n",
    " \n",
    "    visited = []\n",
    "    function filter_fn(face)\n",
    " \n",
    "        verts = []\n",
    "        map(e->verts = union(verts, collect(e)), face)\n",
    "        verts = Set(verts)\n",
    " \n",
    "        if !(verts in visited)\n",
    "            push!(visited, verts)\n",
    "            return true\n",
    "        end\n",
    "        return false\n",
    "    end\n",
    " \n",
    "    nfaces = filter(filter_fn, faces)\n",
    " \n",
    "    nfacenum = length(nfaces)\n",
    "    nFE = spzeros(Int8, nfacenum, size(nEV, 1))\n",
    " \n",
    "    for fi in 1:nfacenum\n",
    "        for edge in nfaces[fi]\n",
    "            ei = etuple2idx[Tuple{Int, Int}(sort(collect(edge)))]\n",
    "            nFE[fi, ei] = sign(edge[2] - edge[1])\n",
    "        end\n",
    "    end\n",
    " \n",
    "    return Lar.Points(nV), nEV, nFE\n",
    " end"
   ],
   "metadata": {
    "id": "oZ9Mr6AtPOq6"
   },
   "id": "oZ9Mr6AtPOq6",
   "execution_count": null,
   "outputs": []
  },
  {
   "cell_type": "code",
   "source": [
    "@btime merge_vertices($Lar.Points(V),$Lar.ChainOp(EV),$Lar.ChainOp(FE),$1e-8)"
   ],
   "metadata": {
    "id": "d5YxoMMGPWtP"
   },
   "id": "d5YxoMMGPWtP",
   "execution_count": null,
   "outputs": []
  },
  {
   "cell_type": "markdown",
   "source": [
    "Ottimizazzione: si è scelto di usare la macro Julia `@async`. Tale macro avvolge un espressione in un `Task`e lo aggiunge alla coda dello scheduler della macchina locale."
   ],
   "metadata": {
    "id": "_dezDh64PePx"
   },
   "id": "_dezDh64PePx"
  },
  {
   "cell_type": "code",
   "source": [
    "function merge_vertices_revisited(V::Lar.Points, EV::Lar.ChainOp, FE::Lar.ChainOp, err=1e-4)\n",
    "    vertsnum = size(V, 1)\n",
    "    edgenum = size(EV, 1)\n",
    "    facenum = size(FE, 1)\n",
    "    newverts = zeros(Int, vertsnum)\n",
    "\n",
    "    # KDTree constructor needs an explicit array of Float64\n",
    "    V = Array{Float64,2}(V)\n",
    "    W = convert(Lar.Points, LinearAlgebra.transpose(V))\n",
    "    kdtree = KDTree(W)\n",
    "\n",
    "    # remove vertices congruent to a single representative\n",
    "    todelete = []\n",
    "    i = 1\n",
    "\n",
    "    for vi in 1:vertsnum #non è possibile utilizzare @async\n",
    "        if !(vi in todelete)\n",
    "            nearvs =  Lar.inrange(kdtree, V[vi, :], err)\n",
    "            newverts[nearvs] .= i\n",
    "            nearvs =  setdiff(nearvs, vi)\n",
    "            todelete = union(todelete, nearvs)\n",
    "            i = i + 1\n",
    "        end\n",
    "    end\n",
    "    nV = V[setdiff(collect(1:vertsnum), todelete), :]\n",
    "    \n",
    "    # translate edges to take congruence into account\n",
    "    edges = Array{Tuple{Int, Int}, 1}(undef, edgenum)\n",
    "    oedges = Array{Tuple{Int, Int}, 1}(undef, edgenum)\n",
    "\n",
    "    for ei in 1:edgenum #non è possibile utilizzare @async\n",
    "        v1, v2 = EV[ei, :].nzind\n",
    "        edges[ei] = Tuple{Int, Int}(sort([newverts[v1], newverts[v2]]))\n",
    "        oedges[ei] = Tuple{Int, Int}(sort([v1, v2]))\n",
    "    end\n",
    "\n",
    "    nedges = union(edges)\n",
    "    # remove edges of zero length\n",
    "    nedges = filter(t->t[1]!=t[2], nedges)\n",
    "    nedgenum = length(nedges)\n",
    "    nEV = spzeros(Int8, nedgenum, size(nV, 1))\n",
    " \n",
    "    etuple2idx = Dict{Tuple{Int, Int}, Int}()\n",
    "\n",
    "    for ei in 1:nedgenum #non è possibile utilizzare @async\n",
    "        begin\n",
    "            nEV[ei, collect(nedges[ei])] .= 1\n",
    "            nEV\n",
    "        end\n",
    "        etuple2idx[nedges[ei]] = ei\n",
    "    end\n",
    "    \n",
    "    @async for e in 1:nedgenum \n",
    "        v1,v2 = findnz(nEV[e,:])[1]\n",
    "        nEV[e,v1] = -1; nEV[e,v2] = 1\n",
    "    end\n",
    " \n",
    "    # compute new faces to take congruence into account\n",
    "    faces = [[\n",
    "        map(x->newverts[x], FE[fi, ei] > 0 ? oedges[ei] : reverse(oedges[ei]))\n",
    "        for ei in FE[fi, :].nzind\n",
    "    ] for fi in 1:facenum]\n",
    " \n",
    " \n",
    "    visited = []\n",
    "    function filter_fn(face)\n",
    " \n",
    "        verts = []\n",
    "        map(e->verts = union(verts, collect(e)), face)\n",
    "        verts = Set(verts)\n",
    " \n",
    "        if !(verts in visited)\n",
    "            push!(visited, verts)\n",
    "            return true\n",
    "        end\n",
    "        return false\n",
    "    end\n",
    " \n",
    "    nfaces = filter(filter_fn, faces)\n",
    " \n",
    "    nfacenum = length(nfaces)\n",
    "    nFE = spzeros(Int8, nfacenum, size(nEV, 1))\n",
    " \n",
    "    @async for fi in 1:nfacenum\n",
    "        @async for edge in nfaces[fi]\n",
    "            ei = etuple2idx[Tuple{Int, Int}(sort(collect(edge)))]\n",
    "            nFE[fi, ei] = sign(edge[2] - edge[1])\n",
    "        end\n",
    "    end\n",
    " \n",
    "    return Lar.Points(nV), nEV, nFE\n",
    " end"
   ],
   "metadata": {
    "id": "54k6bOS6QHq4"
   },
   "id": "54k6bOS6QHq4",
   "execution_count": null,
   "outputs": []
  },
  {
   "cell_type": "code",
   "source": [
    "@btime merge_vertices_revisited(Lar.Points(V),Lar.ChainOp(EV),Lar.ChainOp(FE),1e-8)"
   ],
   "metadata": {
    "id": "MRLEdaICQOzy"
   },
   "id": "MRLEdaICQOzy",
   "execution_count": null,
   "outputs": []
  },
  {
   "cell_type": "markdown",
   "source": [
    "Valutazione spatial_arrangment_1 con merge_vertices ottimizzato "
   ],
   "metadata": {
    "id": "26s8Y8RTQUJ9"
   },
   "id": "26s8Y8RTQUJ9"
  },
  {
   "cell_type": "code",
   "source": [
    "function spatial_arrangement_1_rev(\n",
    "\t\tV::Lar.Points,\n",
    "\t\tcopEV::Lar.ChainOp,\n",
    "\t\tcopFE::Lar.ChainOp, multiproc::Bool=false)\n",
    "\n",
    "\t# spaceindex computation\n",
    "\tFV = Lar.compute_FV( copEV, copFE )\n",
    "\tmodel = (convert(Lar.Points,V'), FV)\n",
    "\tsp_idx = Lar.spaceindex(model) # OK!!  tested symmetry of computed relation\n",
    "\n",
    "\t# initializations\n",
    "\tfs_num = size(copFE, 1)\n",
    "  rV = Array{Float64,2}(undef,0,3)\n",
    "  rEV = SparseArrays.spzeros(Int8,0,0)\n",
    "  rFE = SparseArrays.spzeros(Int8,0,0)\n",
    "\n",
    "\t# multiprocessing of face fragmentation\n",
    "    if (multiproc == true)\n",
    "        in_chan = Distributed.RemoteChannel(()->Channel{Int64}(0))\n",
    "        out_chan = Distributed.RemoteChannel(()->Channel{Tuple}(0))\n",
    "        @async begin\n",
    "            for sigma in 1:fs_num\n",
    "                put!(in_chan, sigma)\n",
    "            end\n",
    "            for p in Distributed.workers()\n",
    "                put!(in_chan, -1)\n",
    "            end\n",
    "        end\n",
    "        for p in Distributed.workers()\n",
    "            @async Base.remote_do(\n",
    "                frag_face_channel, p, in_chan, out_chan, V, EV, FE, sp_idx)\n",
    "        end\n",
    "        for sigma in 1:fs_num\n",
    "            rV, rEV, rFE = Lar.skel_merge(rV, rEV, rFE, take!(out_chan)...)\n",
    "        end\n",
    "    else\n",
    "\t# sequential (iterative) processing of face fragmentation\n",
    "        @async for sigma in 1:fs_num\n",
    "            #println(\"\\n\",sigma, \"/\", fs_num)\n",
    "            nV, nEV, nFE = Lar.Arrangement.frag_face_revisited(V, copEV, copFE, sp_idx, sigma)\n",
    "\t\t      \tnV = convert(Lar.Points, nV)\n",
    "            rV,rEV, rFE= Lar.skel_merge( rV,rEV,rFE,  nV,nEV,nFE )\n",
    "            #rV=a;  #rEV=b;  #rFE=c\n",
    "        end\n",
    "    end\n",
    "\t# merging of close vertices, edges and faces (3D congruence)\n",
    "\trV, rEV, rFE = Lar.Arrangement.merge_vertices_revisited(rV, rEV, rFE)\n",
    "  return rV, rEV, rFE\n",
    "end"
   ],
   "metadata": {
    "id": "DvdkjguzQzIe"
   },
   "id": "DvdkjguzQzIe",
   "execution_count": null,
   "outputs": []
  },
  {
   "cell_type": "code",
   "source": [
    "@btime spatial_arrangement_1_rev(Lar.Points(V),Lar.ChainOp(EV),Lar.ChainOp(FE),false) # Con la funzione `@btime` si valutano le prestazioni dal punto di vista temporale di una funzione"
   ],
   "metadata": {
    "id": "faFhGBYnQ_YD"
   },
   "id": "faFhGBYnQ_YD",
   "execution_count": null,
   "outputs": []
  }
 ],
 "metadata": {
  "kernelspec": {
   "display_name": "Julia 1.7.2",
   "language": "julia",
   "name": "julia-1.7"
  },
  "language_info": {
   "file_extension": ".jl",
   "mimetype": "application/julia",
   "name": "julia",
   "version": "1.7.2"
  },
  "colab": {
   "name": "spatial_arrangement_1.ipynb",
   "provenance": [],
   "collapsed_sections": []
  }
 },
 "nbformat": 4,
 "nbformat_minor": 5
}