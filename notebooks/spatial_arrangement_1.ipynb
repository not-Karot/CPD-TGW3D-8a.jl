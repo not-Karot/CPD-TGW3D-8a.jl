{
 "cells": [
  {
   "cell_type": "code",
   "execution_count": 1,
   "id": "7dd516da",
   "metadata": {},
   "outputs": [
    {
     "name": "stderr",
     "output_type": "stream",
     "text": [
      "\u001B[32m\u001B[1m  Activating\u001B[22m\u001B[39m project at `~/.julia/environments/v1.7`\n"
     ]
    },
    {
     "data": {
      "text/plain": [
       "ViewerGL"
      ]
     },
     "execution_count": 1,
     "metadata": {},
     "output_type": "execute_result"
    }
   ],
   "source": [
    "using Pkg\n",
    "Pkg.activate()\n",
    "Pkg.instantiate()\n",
    "#Carico le librerie utili all'implementazione ed alla fase di test\n",
    "using Profile\n",
    "using ProfileView\n",
    "using BenchmarkTools #utile per il test\n",
    "using SparseArrays\n",
    "using LinearAlgebra\n",
    "using LinearAlgebraicRepresentation\n",
    "using NearestNeighbors\n",
    "Lar = LinearAlgebraicRepresentation\n",
    "using ViewerGL\n",
    "GL = ViewerGL"
   ]
  },
  {
   "cell_type": "code",
   "execution_count": 2,
   "id": "23b65c68",
   "metadata": {},
   "outputs": [],
   "source": [
    "store = [];\n",
    "scaling = 1.5;\n",
    "V,(VV,EV,FV,CV) = Lar.cuboid([0.25,0.25,0.25],true,[-0.25,-0.25,-0.25]);\n",
    "mybox = (V,CV,FV,EV);\n",
    "for k=1:5\n",
    "\tsize = rand()*scaling\n",
    "\tscale = Lar.s(size,size,size)\n",
    "\ttransl = Lar.t(rand(3)...)\n",
    "\talpha = 2*pi*rand()\n",
    "\trx = Lar.r(alpha,0,0); ry = Lar.r(0,alpha,0); rz = Lar.r(0,0,alpha)\n",
    "\trot = rx * ry * rz\n",
    "\tstr = Lar.Struct([ transl, scale, rot, mybox ])\n",
    "\tobj = Lar.struct2lar(str)\n",
    "\tvs = obj[1]\n",
    "\tdiag = LinearAlgebra.norm(vs[:,8]-vs[:,1])\n",
    "\tif diag > 1/5\n",
    "\t\tpush!(store, obj)\n",
    "\tend\n",
    "end\n",
    "\n",
    "str = Lar.Struct(store);\n",
    "V,CV,FV,EV = Lar.struct2lar(str);\n",
    "cop_EV = Lar.coboundary_0(EV::Lar.Cells);\n",
    "cop_FE = Lar.coboundary_1(V, FV::Lar.Cells, EV::Lar.Cells);\n",
    "W = convert(Lar.Points, V');"
   ]
  },
  {
   "cell_type": "code",
   "execution_count": 3,
   "id": "89785244",
   "metadata": {},
   "outputs": [
    {
     "data": {
      "text/plain": [
       "spatial_arrangement_1_rev (generic function with 2 methods)"
      ]
     },
     "execution_count": 3,
     "metadata": {},
     "output_type": "execute_result"
    }
   ],
   "source": [
    "function spatial_arrangement_1_rev(\n",
    "\t\tV::Lar.Points,\n",
    "\t\tcopEV::Lar.ChainOp,\n",
    "\t\tcopFE::Lar.ChainOp, multiproc::Bool=false)\n",
    "\n",
    "\t# spaceindex computation\n",
    "\tFV = Lar.compute_FV( copEV, copFE )\n",
    "\tmodel = (convert(Lar.Points,V'), FV)\n",
    "\tsp_idx = Lar.spaceindex(model) # OK!!  tested symmetry of computed relation\n",
    "\n",
    "\t# initializations\n",
    "\tfs_num = size(copFE, 1)\n",
    "    rV = Array{Float64,2}(undef,0,3)\n",
    "    rEV = SparseArrays.spzeros(Int8,0,0)\n",
    "    rFE = SparseArrays.spzeros(Int8,0,0)\n",
    "\n",
    "\t# multiprocessing of face fragmentation\n",
    "    if (multiproc == true)\n",
    "        in_chan = Distributed.RemoteChannel(()->Channel{Int64}(0))\n",
    "        out_chan = Distributed.RemoteChannel(()->Channel{Tuple}(0))\n",
    "        @async begin\n",
    "            for sigma in 1:fs_num\n",
    "                put!(in_chan, sigma)\n",
    "            end\n",
    "            for p in Distributed.workers()\n",
    "                put!(in_chan, -1)\n",
    "            end\n",
    "        end\n",
    "        for p in Distributed.workers()\n",
    "            @async Base.remote_do(\n",
    "                frag_face_channel, p, in_chan, out_chan, V, EV, FE, sp_idx)\n",
    "        end\n",
    "        for sigma in 1:fs_num\n",
    "            rV, rEV, rFE = Lar.skel_merge(rV, rEV, rFE, take!(out_chan)...)\n",
    "        end\n",
    "    else\n",
    "\t# sequential (iterative) processing of face fragmentation\n",
    "        @async for sigma in 1:fs_num\n",
    "            #println(\"\\n\",sigma, \"/\", fs_num)\n",
    "            nV, nEV, nFE = Lar.Arrangement.frag_face(V, copEV, copFE, sp_idx, sigma)\n",
    "# \t\t\tv = size(nV,1); e = nEV.m; f = nFE.m\n",
    "# @show v-e+f\n",
    "# \t\t\tif v-e+f > 1\n",
    "# \t\t\t\tg = v-e+f - 1\t# number of inner loops\n",
    "# \t\t\t\tnFE = removeinnerloops(g, nFE)\n",
    "# @show nV;\n",
    "# @show SparseArrays.nzind(nEV)\n",
    "# @show SparseArrays.nzind(nFE)\n",
    "# \t\t\tend\n",
    "\t\t\t#nV, nEV, nFE = Lar.fragface(V, copEV, copFE, sp_idx, sigma)\n",
    "\t\t\tnV = convert(Lar.Points, nV)\n",
    "            a,b,c = Lar.skel_merge( rV,rEV,rFE,  nV,nEV,nFE )\n",
    "            rV=a;  rEV=b;  rFE=c\n",
    "        end\n",
    "    end\n",
    "\t# merging of close vertices, edges and faces (3D congruence)\n",
    "\trV, rEV, rFE = Lar.Arrangement.merge_vertices(rV, rEV, rFE)\n",
    "    return rV, rEV, rFE\n",
    "end"
   ]
  },
  {
   "cell_type": "code",
   "execution_count": null,
   "id": "43bb7159",
   "metadata": {},
   "outputs": [],
   "source": [
    "@btime Lar.Arrangement.spatial_arrangement_1(W,cop_EV,cop_FE,true )"
   ]
  },
  {
   "cell_type": "code",
   "execution_count": 5,
   "id": "71d21c62",
   "metadata": {},
   "outputs": [
    {
     "name": "stdout",
     "output_type": "stream",
     "text": [
      "  617.084 μs (13360 allocations: 517.37 KiB)\n"
     ]
    },
    {
     "data": {
      "text/plain": [
       "(Matrix{Float64}(undef, 0, 3), sparse(Int64[], Int64[], Int8[], 0, 0), sparse(Int64[], Int64[], Int8[], 0, 0))"
      ]
     },
     "execution_count": 5,
     "metadata": {},
     "output_type": "execute_result"
    }
   ],
   "source": [
    "@btime spatial_arrangement_1_rev(W,cop_EV,cop_FE,false)"
   ]
  },
  {
   "cell_type": "code",
   "execution_count": null,
   "id": "da70e3c4",
   "metadata": {},
   "outputs": [],
   "source": []
  }
 ],
 "metadata": {
  "kernelspec": {
   "display_name": "Julia 1.7.2",
   "language": "julia",
   "name": "julia-1.7"
  },
  "language_info": {
   "file_extension": ".jl",
   "mimetype": "application/julia",
   "name": "julia",
   "version": "1.7.2"
  }
 },
 "nbformat": 4,
 "nbformat_minor": 5
}